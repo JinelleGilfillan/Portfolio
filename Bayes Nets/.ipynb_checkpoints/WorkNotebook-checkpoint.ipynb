{
 "cells": [
  {
   "cell_type": "code",
   "execution_count": 1,
   "metadata": {},
   "outputs": [],
   "source": [
    "# Following two lines make sure anything imported from .py scripts \n",
    "# is automatically reloaded if edited & saved (e.g. local unit tests or players)\n",
    "%load_ext autoreload\n",
    "%autoreload 2\n",
    "from probability_tests import ProbabilityTests\n",
    "import submission"
   ]
  },
  {
   "cell_type": "code",
   "execution_count": 2,
   "metadata": {},
   "outputs": [],
   "source": [
    "%reload_ext autoreload"
   ]
  },
  {
   "cell_type": "code",
   "execution_count": 3,
   "metadata": {},
   "outputs": [],
   "source": [
    "import unittest\n",
    "tests = ProbabilityTests()\n",
    "tests.test_network_setup()"
   ]
  },
  {
   "cell_type": "code",
   "execution_count": 4,
   "metadata": {},
   "outputs": [],
   "source": [
    "import unittest\n",
    "tests = ProbabilityTests()\n",
    "tests.test_probability_setup()"
   ]
  },
  {
   "cell_type": "code",
   "execution_count": 9,
   "metadata": {},
   "outputs": [
    {
     "name": "stderr",
     "output_type": "stream",
     "text": [
      "Finding Elimination Order: : 100%|█████████████████████████████████████████████████████| 4/4 [00:00<00:00, 4007.94it/s]\n",
      "Eliminating: temperature: 100%|█████████████████████████████████████████████████████████| 4/4 [00:00<00:00, 500.24it/s]\n",
      "Finding Elimination Order: : 100%|█████████████████████████████████████████████████████| 4/4 [00:00<00:00, 4006.98it/s]\n",
      "Eliminating: temperature: 100%|█████████████████████████████████████████████████████████| 4/4 [00:00<00:00, 667.03it/s]\n",
      "Finding Elimination Order: : 100%|█████████████████████████████████████████████████████| 1/1 [00:00<00:00, 1014.59it/s]\n",
      "Eliminating: gauge: 100%|███████████████████████████████████████████████████████████████| 1/1 [00:00<00:00, 499.98it/s]"
     ]
    },
    {
     "name": "stdout",
     "output_type": "stream",
     "text": [
      "0.24980000000000002\n",
      "0.14\n",
      "0.24431818181818185\n"
     ]
    },
    {
     "name": "stderr",
     "output_type": "stream",
     "text": [
      "\n"
     ]
    }
   ],
   "source": [
    "import unittest\n",
    "from submission import *\n",
    "power_plant = make_power_plant_net()\n",
    "power_plant = set_probability(make_power_plant_net())\n",
    "alarm_prob = get_alarm_prob(power_plant)\n",
    "print(alarm_prob)\n",
    "gauge_prob = get_gauge_prob(power_plant)\n",
    "print(gauge_prob)\n",
    "temp_prob = get_temperature_prob(power_plant)\n",
    "print(temp_prob)"
   ]
  },
  {
   "cell_type": "code",
   "execution_count": 18,
   "metadata": {},
   "outputs": [
    {
     "name": "stderr",
     "output_type": "stream",
     "text": [
      "Finding Elimination Order: : 100%|██████████████████████████████████████████████████████| 3/3 [00:00<00:00, 752.93it/s]\n",
      "Eliminating: B: 100%|███████████████████████████████████████████████████████████████████| 3/3 [00:00<00:00, 375.05it/s]\n"
     ]
    }
   ],
   "source": [
    "import unittest\n",
    "tests = ProbabilityTests()\n",
    "tests.test_games_network()\n",
    "tests.test_posterior()"
   ]
  },
  {
   "cell_type": "code",
   "execution_count": 76,
   "metadata": {},
   "outputs": [
    {
     "name": "stdout",
     "output_type": "stream",
     "text": [
      "0.006750000000000001\n"
     ]
    }
   ],
   "source": [
    "import unittest\n",
    "from submission import *\n",
    "game_network = get_game_network()\n",
    "variable = Gibbs_sampler(game_network, [])\n",
    "variable2 = MH_sampler(game_network, [])"
   ]
  },
  {
   "cell_type": "code",
   "execution_count": null,
   "metadata": {},
   "outputs": [],
   "source": []
  }
 ],
 "metadata": {
  "kernelspec": {
   "display_name": "Python 3",
   "language": "python",
   "name": "python3"
  },
  "language_info": {
   "codemirror_mode": {
    "name": "ipython",
    "version": 3
   },
   "file_extension": ".py",
   "mimetype": "text/x-python",
   "name": "python",
   "nbconvert_exporter": "python",
   "pygments_lexer": "ipython3",
   "version": "3.7.6"
  }
 },
 "nbformat": 4,
 "nbformat_minor": 4
}
