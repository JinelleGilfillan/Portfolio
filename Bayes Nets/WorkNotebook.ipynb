{
 "cells": [
  {
   "cell_type": "code",
   "execution_count": 1,
   "metadata": {},
   "outputs": [],
   "source": [
    "# Following two lines make sure anything imported from .py scripts \n",
    "# is automatically reloaded if edited & saved (e.g. local unit tests or players)\n",
    "%load_ext autoreload\n",
    "%autoreload 2\n",
    "from probability_tests import ProbabilityTests\n",
    "import submission"
   ]
  },
  {
   "cell_type": "code",
   "execution_count": 2,
   "metadata": {},
   "outputs": [],
   "source": [
    "%reload_ext autoreload"
   ]
  },
  {
   "cell_type": "code",
   "execution_count": 270,
   "metadata": {},
   "outputs": [],
   "source": [
    "import unittest\n",
    "tests = ProbabilityTests()\n",
    "tests.test_network_setup()"
   ]
  },
  {
   "cell_type": "code",
   "execution_count": 269,
   "metadata": {},
   "outputs": [],
   "source": [
    "import unittest\n",
    "tests = ProbabilityTests()\n",
    "tests.test_probability_setup()"
   ]
  },
  {
   "cell_type": "code",
   "execution_count": 268,
   "metadata": {},
   "outputs": [
    {
     "name": "stderr",
     "output_type": "stream",
     "text": [
      "Finding Elimination Order: : 100%|█████████████████████████████████████████████████████| 4/4 [00:00<00:00, 4006.98it/s]\n",
      "Eliminating: temperature: 100%|█████████████████████████████████████████████████████████| 4/4 [00:00<00:00, 500.44it/s]\n",
      "Finding Elimination Order: : 100%|█████████████████████████████████████████████████████| 4/4 [00:00<00:00, 2003.01it/s]\n",
      "Eliminating: temperature: 100%|█████████████████████████████████████████████████████████| 4/4 [00:00<00:00, 800.59it/s]\n",
      "Finding Elimination Order: : 100%|██████████████████████████████████████████████████████| 1/1 [00:00<00:00, 998.88it/s]\n",
      "Eliminating: gauge: 100%|███████████████████████████████████████████████████████████████| 1/1 [00:00<00:00, 333.52it/s]"
     ]
    },
    {
     "name": "stdout",
     "output_type": "stream",
     "text": [
      "0.24980000000000002\n",
      "0.14\n",
      "0.24431818181818185\n"
     ]
    },
    {
     "name": "stderr",
     "output_type": "stream",
     "text": [
      "\n"
     ]
    }
   ],
   "source": [
    "import unittest\n",
    "from submission import *\n",
    "power_plant = make_power_plant_net()\n",
    "power_plant = set_probability(make_power_plant_net())\n",
    "alarm_prob = get_alarm_prob(power_plant)\n",
    "print(alarm_prob)\n",
    "gauge_prob = get_gauge_prob(power_plant)\n",
    "print(gauge_prob)\n",
    "temp_prob = get_temperature_prob(power_plant)\n",
    "print(temp_prob)"
   ]
  },
  {
   "cell_type": "code",
   "execution_count": 267,
   "metadata": {},
   "outputs": [
    {
     "name": "stderr",
     "output_type": "stream",
     "text": [
      "Finding Elimination Order: : 100%|█████████████████████████████████████████████████████| 3/3 [00:00<00:00, 3001.65it/s]\n",
      "Eliminating: B: 100%|███████████████████████████████████████████████████████████████████| 3/3 [00:00<00:00, 750.41it/s]\n",
      "Finding Elimination Order: : 100%|█████████████████████████████████████████████████████| 3/3 [00:00<00:00, 3003.08it/s]\n",
      "Eliminating: B: 100%|███████████████████████████████████████████████████████████████████| 3/3 [00:00<00:00, 500.33it/s]"
     ]
    },
    {
     "name": "stdout",
     "output_type": "stream",
     "text": [
      "[0.25890074 0.42796763 0.31313163]\n"
     ]
    },
    {
     "name": "stderr",
     "output_type": "stream",
     "text": [
      "\n"
     ]
    }
   ],
   "source": [
    "import unittest\n",
    "from submission import *\n",
    "game_network = get_game_network()\n",
    "tests = ProbabilityTests()\n",
    "tests.test_games_network()\n",
    "tests.test_posterior()\n",
    "value = calculate_posterior(game_network)\n",
    "print (value)"
   ]
  },
  {
   "cell_type": "code",
   "execution_count": 266,
   "metadata": {},
   "outputs": [],
   "source": [
    "import unittest\n",
    "from submission import *\n",
    "game_network = get_game_network()\n",
    "variable = Gibbs_sampler(game_network, [])\n",
    "variable2 = MH_sampler(game_network, [])"
   ]
  },
  {
   "cell_type": "code",
   "execution_count": 265,
   "metadata": {},
   "outputs": [],
   "source": [
    "import unittest\n",
    "from submission import *\n",
    "game_network = get_game_network()\n",
    "var1, var2, var3, var4, var5 = compare_sampling(game_network, [])"
   ]
  },
  {
   "cell_type": "code",
   "execution_count": null,
   "metadata": {},
   "outputs": [],
   "source": []
  }
 ],
 "metadata": {
  "kernelspec": {
   "display_name": "Python 3",
   "language": "python",
   "name": "python3"
  },
  "language_info": {
   "codemirror_mode": {
    "name": "ipython",
    "version": 3
   },
   "file_extension": ".py",
   "mimetype": "text/x-python",
   "name": "python",
   "nbconvert_exporter": "python",
   "pygments_lexer": "ipython3",
   "version": "3.7.6"
  }
 },
 "nbformat": 4,
 "nbformat_minor": 4
}
