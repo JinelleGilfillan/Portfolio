{
 "cells": [
  {
   "cell_type": "markdown",
   "metadata": {},
   "source": [
    "# Trailblazer Isolation\n",
    "\n",
    "This project's goal is to create an AI that can play and win a game of Trailblazer Isolation.  \n"
   ]
  },
  {
   "cell_type": "markdown",
   "metadata": {},
   "source": [
    "## About the Game"
   ]
  },
  {
   "cell_type": "markdown",
   "metadata": {},
   "source": [
    "The rules of Trailblazer Isolation are a simple variation of the original Isolation. In the original form of the game there are two players, each with their own game piece, and a 7-by-7 grid of squares. At the beginning of the game, the first player places their piece on any square. The second player follows suit, and places their piece on any one of the available squares. From that point on, the players alternate turns moving their piece like a queen in chess (any number of open squares vertically, horizontally, or diagonally). When the piece is moved, the square that was previously occupied is blocked, and cannot be used for the remainder of the game. The first player who is unable to move their queen loses.\n",
    "\n",
    "In this Trailblazer variant, each player leaves behind a temporary 'trail' when they move their queen. This trail places a temporary block in every square the queen passes through. The opponent cannot move on or through squares blocked by this trail, but once the opponent makes a move the trail will disappear. For clarity, examine the scenario below:\n",
    "\n",
    "Q1 places their queen on the board, and Q2 follows suit.\n",
    "\n",
    "![](./img/1.png)\n",
    "\n",
    "Q1 makes a diagonal move across the board and leaves behind a temporary trail, blocking some of Q2's potential moves.\n",
    "\n",
    "![](./img/2.png)\n",
    "\n",
    "Q2 makes a move, leaving behind her own trail. After Q2 makes this move, the trail left by Q1 in the turn prior vanishes.\n",
    "\n",
    "![](./img/3.png)\n",
    "\n",
    "\n",
    "\n",
    "You can try playing the game against the Random Player or yourself using the interactive tool below."
   ]
  },
  {
   "cell_type": "code",
   "execution_count": 1,
   "metadata": {
    "scrolled": true
   },
   "outputs": [
    {
     "name": "stdout",
     "output_type": "stream",
     "text": [
      "Your python version is  3.7.6\n",
      "✅ ALL GOOD\n"
     ]
    }
   ],
   "source": [
    "%run helpers/verify_config.py # verify the environment setup"
   ]
  },
  {
   "cell_type": "code",
   "execution_count": 2,
   "metadata": {},
   "outputs": [],
   "source": [
    "# Following two lines make sure anything imported from .py scripts \n",
    "# is automatically reloaded if edited & saved (e.g. local unit tests or players)\n",
    "%load_ext autoreload\n",
    "%autoreload 2\n",
    "from board_viz import ReplayGame, InteractiveGame\n",
    "from isolation import Board\n",
    "from test_players import RandomPlayer"
   ]
  },
  {
   "cell_type": "code",
   "execution_count": 3,
   "metadata": {},
   "outputs": [],
   "source": [
    "%reload_ext autoreload"
   ]
  },
  {
   "cell_type": "code",
   "execution_count": 4,
   "metadata": {},
   "outputs": [
    {
     "ename": "NameError",
     "evalue": "name 'CustomPlayer' is not defined",
     "output_type": "error",
     "traceback": [
      "\u001b[1;31m---------------------------------------------------------------------------\u001b[0m",
      "\u001b[1;31mNameError\u001b[0m                                 Traceback (most recent call last)",
      "\u001b[1;32m<ipython-input-4-2a1bec8d687e>\u001b[0m in \u001b[0;36m<module>\u001b[1;34m\u001b[0m\n\u001b[0;32m      1\u001b[0m \u001b[1;31m# replace RandomPlayer() with None if you want to play for both players\u001b[0m\u001b[1;33m\u001b[0m\u001b[1;33m\u001b[0m\u001b[1;33m\u001b[0m\u001b[0m\n\u001b[1;32m----> 2\u001b[1;33m \u001b[0mig\u001b[0m \u001b[1;33m=\u001b[0m \u001b[0mInteractiveGame\u001b[0m\u001b[1;33m(\u001b[0m\u001b[0mCustomPlayer\u001b[0m\u001b[1;33m(\u001b[0m\u001b[1;33m)\u001b[0m\u001b[1;33m,\u001b[0m \u001b[0mshow_legal_moves\u001b[0m\u001b[1;33m=\u001b[0m\u001b[1;32mTrue\u001b[0m\u001b[1;33m)\u001b[0m\u001b[1;33m\u001b[0m\u001b[1;33m\u001b[0m\u001b[0m\n\u001b[0m",
      "\u001b[1;31mNameError\u001b[0m: name 'CustomPlayer' is not defined"
     ]
    }
   ],
   "source": [
    "# replace RandomPlayer() with None if you want to play for both players\n",
    "ig = InteractiveGame(CustomPlayer(), show_legal_moves=True)"
   ]
  },
  {
   "cell_type": "markdown",
   "metadata": {},
   "source": [
    "One other thing you can do is simulate a game between two players and replay it.\n",
    "\n",
    "**Run the next cell, click inside the text input box right above the slider and press Up or Down.**"
   ]
  },
  {
   "cell_type": "code",
   "execution_count": 5,
   "metadata": {
    "scrolled": false
   },
   "outputs": [
    {
     "ename": "NameError",
     "evalue": "name 'CustomPlayer' is not defined",
     "output_type": "error",
     "traceback": [
      "\u001b[1;31m---------------------------------------------------------------------------\u001b[0m",
      "\u001b[1;31mNameError\u001b[0m                                 Traceback (most recent call last)",
      "\u001b[1;32m<ipython-input-5-8339a6657e93>\u001b[0m in \u001b[0;36m<module>\u001b[1;34m\u001b[0m\n\u001b[0;32m      1\u001b[0m \u001b[1;31m# Here is an example of how to visualise a game replay of 2 random players\u001b[0m\u001b[1;33m\u001b[0m\u001b[1;33m\u001b[0m\u001b[1;33m\u001b[0m\u001b[0m\n\u001b[1;32m----> 2\u001b[1;33m \u001b[0mgame\u001b[0m \u001b[1;33m=\u001b[0m \u001b[0mBoard\u001b[0m\u001b[1;33m(\u001b[0m\u001b[0mCustomPlayer\u001b[0m\u001b[1;33m(\u001b[0m\u001b[1;33m)\u001b[0m\u001b[1;33m,\u001b[0m \u001b[0mCustomPlayer\u001b[0m\u001b[1;33m(\u001b[0m\u001b[1;33m)\u001b[0m\u001b[1;33m,\u001b[0m \u001b[1;36m7\u001b[0m\u001b[1;33m,\u001b[0m \u001b[1;36m7\u001b[0m\u001b[1;33m)\u001b[0m\u001b[1;33m\u001b[0m\u001b[1;33m\u001b[0m\u001b[0m\n\u001b[0m\u001b[0;32m      3\u001b[0m \u001b[0mwinner\u001b[0m\u001b[1;33m,\u001b[0m \u001b[0mmove_history\u001b[0m\u001b[1;33m,\u001b[0m \u001b[0mtermination\u001b[0m \u001b[1;33m=\u001b[0m \u001b[0mgame\u001b[0m\u001b[1;33m.\u001b[0m\u001b[0mplay_isolation\u001b[0m\u001b[1;33m(\u001b[0m\u001b[0mtime_limit\u001b[0m\u001b[1;33m=\u001b[0m\u001b[1;36m1000\u001b[0m\u001b[1;33m,\u001b[0m \u001b[0mprint_moves\u001b[0m\u001b[1;33m=\u001b[0m\u001b[1;32mFalse\u001b[0m\u001b[1;33m)\u001b[0m\u001b[1;33m\u001b[0m\u001b[1;33m\u001b[0m\u001b[0m\n\u001b[0;32m      4\u001b[0m \u001b[1;33m\u001b[0m\u001b[0m\n\u001b[0;32m      5\u001b[0m \u001b[0mbg\u001b[0m \u001b[1;33m=\u001b[0m \u001b[0mReplayGame\u001b[0m\u001b[1;33m(\u001b[0m\u001b[0mgame\u001b[0m\u001b[1;33m,\u001b[0m \u001b[0mmove_history\u001b[0m\u001b[1;33m,\u001b[0m \u001b[0mshow_legal_moves\u001b[0m\u001b[1;33m=\u001b[0m\u001b[1;32mTrue\u001b[0m\u001b[1;33m)\u001b[0m\u001b[1;33m\u001b[0m\u001b[1;33m\u001b[0m\u001b[0m\n",
      "\u001b[1;31mNameError\u001b[0m: name 'CustomPlayer' is not defined"
     ]
    }
   ],
   "source": [
    "# Here is an example of how to visualise a game replay of 2 random players\n",
    "game = Board(CustomPlayer(), CustomPlayer(), 7, 7)\n",
    "winner, move_history, termination = game.play_isolation(time_limit=1000, print_moves=False)\n",
    "\n",
    "bg = ReplayGame(game, move_history, show_legal_moves=True)\n",
    "bg.show_board()"
   ]
  },
  {
   "cell_type": "markdown",
   "metadata": {},
   "source": [
    "### Evaluation Functions\n",
    "\n",
    "These functions will inform the value judgements the AI will make when choosing moves. There are 2 classes:\n",
    "\n",
    "- `OpenMoveEvalFn` -Returns the number of available moves open for your player minus the number of moves available for opponent player. All baseline tests will use this function. \n",
    "- `CustomEvalFn` - Custom evaluation logic.\n"
   ]
  },
  {
   "cell_type": "markdown",
   "metadata": {},
   "source": [
    "### CustomPlayer\n"
   ]
  },
  {
   "cell_type": "code",
   "execution_count": 6,
   "metadata": {},
   "outputs": [],
   "source": [
    "# %run helpers/notebook2script section1a"
   ]
  },
  {
   "cell_type": "markdown",
   "metadata": {},
   "source": [
    "## Importing External Modules"
   ]
  },
  {
   "cell_type": "code",
   "execution_count": 7,
   "metadata": {},
   "outputs": [
    {
     "name": "stdout",
     "output_type": "stream",
     "text": [
      "The autoreload extension is already loaded. To reload it, use:\n",
      "  %reload_ext autoreload\n"
     ]
    }
   ],
   "source": [
    "# Following two lines make sure anything imported from .py scripts \n",
    "# is automatically reloaded if edited & saved (e.g. local unit tests or players)\n",
    "%load_ext autoreload\n",
    "%autoreload 2\n",
    "import player_submission_tests as tests\n",
    "from test_players import HumanPlayer, RandomPlayer"
   ]
  },
  {
   "cell_type": "code",
   "execution_count": 8,
   "metadata": {},
   "outputs": [],
   "source": [
    "%reload_ext autoreload"
   ]
  },
  {
   "cell_type": "code",
   "execution_count": 9,
   "metadata": {},
   "outputs": [],
   "source": [
    "#export\n",
    "import time\n",
    "from isolation import Board"
   ]
  },
  {
   "cell_type": "markdown",
   "metadata": {},
   "source": [
    "## OpenMoveEvalFn\n"
   ]
  },
  {
   "cell_type": "code",
   "execution_count": null,
   "metadata": {},
   "outputs": [],
   "source": [
    "Board.get_player_moves??"
   ]
  },
  {
   "cell_type": "code",
   "execution_count": null,
   "metadata": {},
   "outputs": [],
   "source": [
    "Board.get_opponent_moves??"
   ]
  },
  {
   "cell_type": "code",
   "execution_count": 11,
   "metadata": {},
   "outputs": [],
   "source": [
    "#export\n",
    "class CustomEvalFn:\n",
    "    def __init__(self):\n",
    "        pass\n",
    "\n",
    "    def score(self, game, my_player=None):\n",
    "        \"\"\"Score the current game state.\n",
    "        \n",
    "        Custom evaluation function that acts however you think it should. This\n",
    "        is not required but highly encouraged if you want to build the best\n",
    "        AI possible.\n",
    "        \n",
    "        Args:\n",
    "            game (Board): The board and game state.\n",
    "            my_player (Player object): This specifies which player you are.\n",
    "            \n",
    "        Returns:\n",
    "            float: The current state's score, based on your own heuristic.\n",
    "        \"\"\"\n",
    "\n",
    "        num_my_moves = len(game.get_player_moves(my_player))\n",
    "        num_opp_moves = len(game.get_opponent_moves(my_player))\n",
    "        #if num_my_moves > num_opp_moves and num_opp_moves < 3:\n",
    "            #return 1000000000000\n",
    "        #elif num_my_moves < num_opp_moves and num_my_moves < 3:\n",
    "            #return -1000000000000\n",
    "        #else:\n",
    "        return num_my_moves - 2*num_opp_moves\n"
   ]
  },
  {
   "cell_type": "code",
   "execution_count": 12,
   "metadata": {},
   "outputs": [
    {
     "name": "stdout",
     "output_type": "stream",
     "text": [
      "\n",
      "OpenMoveEvalFn Test: This board has a score of -9.\n",
      "\n"
     ]
    }
   ],
   "source": [
    "#export\n",
    "class OpenMoveEvalFn:\n",
    "    def score(self, game, my_player=None):\n",
    "        \"\"\"Score the current game state\n",
    "        Evaluation function that outputs a score equal to how many\n",
    "        moves are open for AI player on the board minus how many moves\n",
    "        are open for Opponent's player on the board.\n",
    "\n",
    "        Note:\n",
    "            If you think of better evaluation function, do it in CustomEvalFn below.\n",
    "\n",
    "            Args\n",
    "                game (Board): The board and game state.\n",
    "                my_player (Player object): This specifies which player you are.\n",
    "\n",
    "            Returns:\n",
    "                float: The current state's score. MyMoves-OppMoves.\n",
    "\n",
    "            \"\"\"\n",
    "\n",
    "\n",
    "        return len(game.get_player_moves(my_player)) - len(game.get_opponent_moves(my_player))\n",
    "\n",
    "\n",
    "tests.correctOpenEvalFn(OpenMoveEvalFn)"
   ]
  },
  {
   "cell_type": "markdown",
   "metadata": {},
   "source": [
    "---"
   ]
  },
  {
   "cell_type": "markdown",
   "metadata": {},
   "source": [
    "## CustomPlayer\n",
    "\n",
    "\n",
    "Originally:\n",
    "```python\n",
    "def move(self, game, time_left):\n",
    "    ...\n",
    "```\n",
    "Adding a new argument with default parameter.\n",
    "```python\n",
    "def move(self, game, time_left, new_parameter=default_value):\n",
    "    ...\n",
    "```\n",
    "\n",
    "Don't do this, you will get an error in the auto-grader and lose your submission:\n",
    "```python\n",
    "def move(self, game, time_left, new_parameter):\n",
    "    ...\n",
    "```\n",
    "```python\n",
    "def move(self, new_parameter, game, time_left):\n",
    "    ...\n",
    "```\n"
   ]
  },
  {
   "cell_type": "code",
   "execution_count": 13,
   "metadata": {},
   "outputs": [],
   "source": [
    "#export\n",
    "class CustomPlayer:\n",
    "\n",
    "    \"\"\"Player that chooses a move using your evaluation function\n",
    "    and a minimax algorithm with alpha-beta pruning.\n",
    "    You must finish and test this player to make sure it properly\n",
    "    uses minimax and alpha-beta to return a good move.\"\"\"\n",
    "\n",
    "    def __init__(self, search_depth=8, eval_fn=CustomEvalFn()):\n",
    "        \"\"\"Initializes your player.\n",
    "        \n",
    "        if you find yourself with a superior eval function, update the default\n",
    "        value of `eval_fn` to `CustomEvalFn()`\n",
    "        \n",
    "        Args:\n",
    "            search_depth (int): The depth to which your agent will search\n",
    "            eval_fn (function): Evaluation function used by your agent\n",
    "        \"\"\"\n",
    "        self.eval_fn = eval_fn\n",
    "        self.search_depth = search_depth\n",
    "    \n",
    "    def move(self, game, time_left):\n",
    "        \"\"\"Called to determine one move by your agent\n",
    "\n",
    "        Note:\n",
    "            1. Do NOT change the name of this 'move' function. We are going to call\n",
    "            this function directly.\n",
    "            2. Call alphabeta instead of minimax once implemented.\n",
    "        Args:\n",
    "            game (Board): The board and game state.\n",
    "            time_left (function): Used to determine time left before timeout\n",
    "\n",
    "        Returns:\n",
    "            tuple: (int,int): Your best move\n",
    "        \"\"\"\n",
    "        best_move, utility = alphabeta(self, game, time_left, depth=self.search_depth)\n",
    "        return best_move\n",
    "\n",
    "    def utility(self, game, my_turn):\n",
    "        \"\"\"You can handle special cases here (e.g. endgame)\"\"\"\n",
    "        return self.eval_fn.score(game, self)\n"
   ]
  },
  {
   "cell_type": "markdown",
   "metadata": {},
   "source": [
    "## Minimax\n"
   ]
  },
  {
   "cell_type": "code",
   "execution_count": 14,
   "metadata": {},
   "outputs": [
    {
     "name": "stdout",
     "output_type": "stream",
     "text": [
      "\n",
      "CustomPlayer Test: ERROR OCCURRED\n",
      "Traceback (most recent call last):\n",
      "  File \"C:\\Users\\jinel\\desktop\\assignment_1\\player_submission_tests.py\", line 50, in beatRandom\n",
      "    winner, move_history, termination = game.play_isolation(time_limit=1000, print_moves=False)\n",
      "  File \"C:\\Users\\jinel\\desktop\\assignment_1\\isolation.py\", line 591, in play_isolation\n",
      "    game_copy, time_left)  # queen added in return\n",
      "  File \"<ipython-input-13-d445191b96c3>\", line 36, in move\n",
      "    best_move, utility = alphabeta(self, game, time_left, depth=self.search_depth)\n",
      "NameError: name 'alphabeta' is not defined\n",
      "\n",
      "\n",
      "Now running the Minimax test.\n",
      "\n",
      "Minimax failed for depth:  1\n",
      "Minimax failed for depth:  2\n",
      "Minimax failed for depth:  3\n",
      "Minimax failed for depth:  4\n",
      "Minimax failed for depth:  5\n",
      "Minimax Test: Failed\n"
     ]
    }
   ],
   "source": [
    "#export\n",
    "def minimax(player, game, time_left, depth, my_turn=True):\n",
    "    \"\"\"Implementation of the minimax algorithm.\n",
    "    \n",
    "    Args:\n",
    "        player (CustomPlayer): This is the instantiation of CustomPlayer() \n",
    "            that represents your agent. It is used to call anything you \n",
    "            need from the CustomPlayer class (the utility() method, for example, \n",
    "            or any class variables that belong to CustomPlayer()).\n",
    "        game (Board): A board and game state.\n",
    "        time_left (function): Used to determine time left before timeout\n",
    "        depth: Used to track how deep you are in the search tree\n",
    "        my_turn (bool): True if you are computing scores during your turn.\n",
    "        \n",
    "    Returns:\n",
    "        (tuple, int): best_move, val\n",
    "    \"\"\"\n",
    "\n",
    "    val_list = list()\n",
    "    move_val_list = list()\n",
    "    best_move = list()\n",
    "    best_val = int()\n",
    "\n",
    "\n",
    "    if my_turn==True:\n",
    "        move_list = game.get_player_moves(player)\n",
    "        for i in range(len(move_list)):\n",
    "            test_board, is_over, winner = game.forecast_move(move_list[i])\n",
    "            if is_over == True and winner == test_board.__active_players_queen__:\n",
    "                move_val_list.append(move_list[i])\n",
    "                val_list.append(1000000)\n",
    "            elif is_over == True:\n",
    "                move_val_list.append(move_list[i])\n",
    "                val_list.append(-1000000)\n",
    "            elif depth == 1 or time_left() <= 20:\n",
    "                val_list.append(player.eval_fn.score(test_board, player))\n",
    "                move_val_list.append(move_list[i])\n",
    "            elif depth > 1:\n",
    "                my_turn = False\n",
    "                move, val = minimax(player, test_board, time_left, depth-1, my_turn)\n",
    "                val_list.append(val)\n",
    "                move_val_list.append(move_list[i])\n",
    "            i += 1\n",
    "            best_val = max(val_list)\n",
    "            index = val_list.index(best_val)\n",
    "            best_move = move_val_list[index]\n",
    "        return best_move, best_val\n",
    "\n",
    "    if my_turn==False:\n",
    "        move_list = game.get_opponent_moves(player)\n",
    "        for i in range(len(move_list)):\n",
    "            test_board, is_over, winner = game.forecast_move(move_list[i])\n",
    "            if is_over == True and winner == test_board.__active_players_queen__:\n",
    "                move_val_list.append(move_list[i])\n",
    "                val_list.append(-1000000)\n",
    "            elif is_over == True:\n",
    "                move_val_list.append(move_list[i])\n",
    "                val_list.append(10000000)\n",
    "            if depth == 1 or time_left() <= 20:\n",
    "                val_list.append(player.eval_fn.score(test_board, player))\n",
    "                move_val_list.append(move_list[i])\n",
    "            elif depth > 1:\n",
    "                my_turn=True\n",
    "                move, val = minimax(player, test_board, time_left, depth-1, my_turn)\n",
    "                val_list.append(val)\n",
    "                move_val_list.append(move_list[i])\n",
    "            i += 1\n",
    "            best_val = min(val_list)\n",
    "            index = val_list.index(best_val)\n",
    "            best_move = move_val_list[index]\n",
    "        return best_move, best_val\n",
    "\n",
    "\n",
    "tests.beatRandom(CustomPlayer)\n",
    "tests.minimaxTest(CustomPlayer, minimax)"
   ]
  },
  {
   "cell_type": "code",
   "execution_count": null,
   "metadata": {},
   "outputs": [],
   "source": [
    " %run helpers/notebook2script section1a"
   ]
  },
  {
   "cell_type": "markdown",
   "metadata": {},
   "source": [
    "---"
   ]
  },
  {
   "cell_type": "markdown",
   "metadata": {},
   "source": [
    "## AlphaBeta\n"
   ]
  },
  {
   "cell_type": "code",
   "execution_count": 16,
   "metadata": {},
   "outputs": [],
   "source": [
    "#export\n",
    "def alphabeta(player, game, time_left, depth, alpha=float(\"-inf\"), beta=float(\"inf\"), my_turn=True):\n",
    "    \"\"\"Implementation of the alphabeta algorithm.\n",
    "    \n",
    "    Args:\n",
    "        player (CustomPlayer): This is the instantiation of CustomPlayer() \n",
    "            that represents your agent. It is used to call anything you need \n",
    "            from the CustomPlayer class (the utility() method, for example, \n",
    "            or any class variables that belong to CustomPlayer())\n",
    "        game (Board): A board and game state.\n",
    "        time_left (function): Used to determine time left before timeout\n",
    "        depth: Used to track how deep you are in the search tree\n",
    "        alpha (float): Alpha value for pruning\n",
    "        beta (float): Beta value for pruning\n",
    "        my_turn (bool): True if you are computing scores during your turn.\n",
    "        \n",
    "    Returns:\n",
    "        (tuple, int): best_move, val\n",
    "    \"\"\"\n",
    "\n",
    "    val_list = list()\n",
    "    move_val_list = list()\n",
    "    best_move = list()\n",
    "    best_val = int()\n",
    "\n",
    "\n",
    "    if my_turn==True:\n",
    "        #print(len(game.get_player_moves(player)))\n",
    "        if game.is_spot_open(3, 3) == True and len(game.get_player_moves(player)) == (7*7)-1:\n",
    "            best_move = (3,3)\n",
    "            best_val = 0\n",
    "            \n",
    "            return best_move, best_val\n",
    "            \n",
    "        else:\n",
    "            if game.get_opponent_position(player) == (3,3) and len(game.get_opponent_moves(player)) == (7*7)-2:\n",
    "                #print(\"special move list\")                \n",
    "                move_list = [(0,1), (0,2), (0,4), (0,5), (1,2), (1,4), (1,6), (2,5), (2,6), (4,5), (4,6), (5,6)]\n",
    "            else:\n",
    "                move_list = game.get_player_moves(player)\n",
    "        \n",
    "        \n",
    "        for i in range(len(move_list)):\n",
    "            test_board, is_over, winner = game.forecast_move(move_list[i])\n",
    "            if is_over == True and winner == test_board.__active_players_queen__:\n",
    "                return move_list[i], 1000000000000\n",
    "                break\n",
    "                \n",
    "            elif is_over == True:\n",
    "                return move_list[i], -1000000000000\n",
    "                break\n",
    "                \n",
    "            else:\n",
    "                s = player.eval_fn.score(test_board, player)\n",
    "                #if s >= beta:                    \n",
    "                    #return move_list[i], s\n",
    "                    #break \n",
    "                val_list.append(s)\n",
    "                move_val_list.append(move_list[i]) \n",
    "        \n",
    "        best_val = max(val_list)\n",
    "        index = val_list.index(best_val)\n",
    "        best_move = move_val_list[index]\n",
    "        \n",
    "        counter=0\n",
    "        #sort move list\n",
    "        for i in range(len(move_list)):\n",
    "            sort_val = max(val_list)\n",
    "            sort_ind = val_list.index(sort_val)\n",
    "            sort_move = move_val_list[sort_ind]\n",
    "            \n",
    "            move_list.remove(sort_move)\n",
    "            move_list.insert(counter,sort_move)\n",
    "            \n",
    "            val_list.remove(sort_val)\n",
    "            move_val_list.remove(sort_move)\n",
    "            \n",
    "            counter += 1\n",
    "        \n",
    "        for i in range(len(move_list)):\n",
    "            \n",
    "            test_board, is_over, winner = game.forecast_move(move_list[i])\n",
    "            \n",
    "            if is_over == True and winner == test_board.__active_players_queen__:\n",
    "                    \n",
    "                return move_list[i], 1000000000000\n",
    "                break\n",
    "                \n",
    "            elif is_over == True:\n",
    "              \n",
    "                    \n",
    "                return move_list[i], -1000000000000\n",
    "                break\n",
    "                \n",
    "            else:\n",
    "                s = player.eval_fn.score(test_board, player)\n",
    "                #if s >= beta:\n",
    "                    \n",
    "                    \n",
    "                    #return move_list[i], s\n",
    "                    #break\n",
    "                val_list.append(s)\n",
    "                move_val_list.append(move_list[i])                \n",
    "\n",
    "                if time_left() > 50:\n",
    "                    my_turn = False\n",
    "                    move, val = alphabeta(player, test_board, time_left, depth+1, alpha, beta, my_turn)\n",
    "                    if val > alpha:\n",
    "                        alpha = val\n",
    "                    if beta <= alpha:\n",
    "                     \n",
    "                    \n",
    "                        return move_list[i], val\n",
    "                        break\n",
    "                    val_list.append(val)\n",
    "                    move_val_list.append(move_list[i])\n",
    "                else:\n",
    "                    break\n",
    "       \n",
    "        #print(depth)   \n",
    "        return best_move, best_val\n",
    "\n",
    "    \n",
    "    \n",
    "    if my_turn==False:\n",
    "        move_list = game.get_opponent_moves(player)\n",
    "        \n",
    "        for i in range(len(move_list)):\n",
    "            test_board, is_over, winner = game.forecast_move(move_list[i])\n",
    "            if is_over == True and winner == test_board.__active_players_queen__:\n",
    "                \n",
    "                    \n",
    "                return move_list[i], -1000000000000\n",
    "                break\n",
    "            elif is_over == True:\n",
    "                return move_list[i], 1000000000000\n",
    "                break\n",
    "            else:\n",
    "                s = player.eval_fn.score(test_board, player)\n",
    "                if s <= alpha:\n",
    "                    \n",
    "                    return move_list[i], s\n",
    "                    break\n",
    "                val_list.append(s)\n",
    "                move_val_list.append(move_list[i])\n",
    "        \n",
    "        best_val = min(val_list)\n",
    "        index = val_list.index(best_val)\n",
    "        best_move = move_val_list[index]\n",
    "        \n",
    "        \n",
    "        counter=0\n",
    "        #sort move list\n",
    "        for i in range(len(move_list)):\n",
    "            sort_val = min(val_list)\n",
    "            sort_ind = val_list.index(sort_val)\n",
    "            sort_move = move_val_list[sort_ind]\n",
    "            \n",
    "            move_list.remove(sort_move)\n",
    "            move_list.insert(counter,sort_move)\n",
    "            \n",
    "            val_list.remove(sort_val)\n",
    "            move_val_list.remove(sort_move)\n",
    "            \n",
    "            counter += 1\n",
    "            \n",
    "        \n",
    "        for i in range(len(move_list)):\n",
    "            test_board, is_over, winner = game.forecast_move(move_list[i])\n",
    "            if is_over == True and winner == test_board.__active_players_queen__:\n",
    "                move_val_list.append(move_list[i])\n",
    "                val_list.append(-1000000)\n",
    "            \n",
    "                    \n",
    "                return move_list[i], -1000000000000\n",
    "                break\n",
    "            elif is_over == True:\n",
    "                return move_list[i], 1000000000000\n",
    "                break\n",
    "            else:\n",
    "                s = player.eval_fn.score(test_board, player)\n",
    "                if s <= alpha:\n",
    "                        \n",
    "                    return move_list[i], s\n",
    "                    break\n",
    "                val_list.append(s)\n",
    "                move_val_list.append(move_list[i])\n",
    "\n",
    "                best_val = min(val_list)\n",
    "                index = val_list.index(best_val)\n",
    "                best_move = move_val_list[index]\n",
    "\n",
    "                if time_left() > 50:\n",
    "                    my_turn = True\n",
    "                    move, val = alphabeta(player, test_board, time_left, depth+1, alpha, beta, my_turn)\n",
    "                    if val < beta:\n",
    "                        beta = val\n",
    "                    if beta <= alpha:\n",
    "                     \n",
    "                        return move_list[i], val\n",
    "                        break\n",
    "                    val_list.append(val)\n",
    "                    move_val_list.append(move_list[i])\n",
    "                          \n",
    "                best_val = min(val_list)\n",
    "                index = val_list.index(best_val)\n",
    "                best_move = move_val_list[index]\n",
    "                \n",
    "       \n",
    "        return best_move, best_val\n",
    "    return best_move, best_val\n"
   ]
  },
  {
   "cell_type": "code",
   "execution_count": null,
   "metadata": {},
   "outputs": [],
   "source": [
    "ig = InteractiveGame(CustomPlayer(), show_legal_moves=True)"
   ]
  },
  {
   "cell_type": "code",
   "execution_count": null,
   "metadata": {},
   "outputs": [],
   "source": [
    " %run helpers/notebook2script section1b"
   ]
  }
 ],
 "metadata": {
  "kernelspec": {
   "display_name": "Python 3",
   "language": "python",
   "name": "python3"
  },
  "language_info": {
   "codemirror_mode": {
    "name": "ipython",
    "version": 3
   },
   "file_extension": ".py",
   "mimetype": "text/x-python",
   "name": "python",
   "nbconvert_exporter": "python",
   "pygments_lexer": "ipython3",
   "version": "3.7.6"
  }
 },
 "nbformat": 4,
 "nbformat_minor": 2
}
